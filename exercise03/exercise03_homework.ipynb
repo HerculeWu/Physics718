{
 "cells": [
  {
   "cell_type": "markdown",
   "metadata": {},
   "source": [
    "# Homework 03\n",
    "## 1. NumPy performance"
   ]
  },
  {
   "cell_type": "code",
   "execution_count": 1,
   "metadata": {},
   "outputs": [],
   "source": [
    "import numpy as np\n",
    "import math"
   ]
  },
  {
   "cell_type": "code",
   "execution_count": 2,
   "metadata": {},
   "outputs": [],
   "source": [
    "# expand this function to complete the first task of the first homework exercise\n",
    "def log_integral(x, delta_x, N):\n",
    "    _sum = 0\n",
    "    for xk in x:\n",
    "        ln_xk = math.log(xk)\n",
    "        _sum += (ln_xk * delta_x) / ((1.0 + ln_xk)**2)\n",
    "    return _sum"
   ]
  },
  {
   "cell_type": "code",
   "execution_count": 3,
   "metadata": {},
   "outputs": [],
   "source": [
    "# expand this function to complete the second task of the first homework exercise\n",
    "def log_integral_numpy(x, delta_x, N):\n",
    "    if isinstance(x, list):\n",
    "        x_array = np.array(x)\n",
    "    elif isinstance(x, numpy.ndarray):\n",
    "        x_array = x\n",
    "    else:\n",
    "        raise TypeError(\"x should be an array or a list!\")\n",
    "    term = np.log(x_array) * delta_x / ((1.0 + np.log(x_array))**2)\n",
    "    return np.sum(term)"
   ]
  },
  {
   "cell_type": "code",
   "execution_count": 4,
   "metadata": {},
   "outputs": [],
   "source": [
    "# change the variables c, N and x to complete the last task of this homework exercise\n",
    "\n",
    "c = np.exp(1.0)\n",
    "N = 10000\n",
    "delta_x = (c-1)/N\n",
    "\n",
    "x = list(np.arange(1, c, delta_x))\n"
   ]
  },
  {
   "cell_type": "code",
   "execution_count": 5,
   "metadata": {},
   "outputs": [],
   "source": [
    "# this function test if your implementation of log_integral and log_integral_numpy are working correctly. It also prints the execution time of your implementations. If this function throws an NotImplementedError exceptions you still need to change your code in the cells above\n",
    "# DO NOT REMOVE THIS FUNCTION\n",
    "def test_log_integral(func, x, delta_x, N, printExecTime=True, verbose=False, decimal=4):\n",
    "    if len(x) == 0: raise NotImplementedError(\"you need to define the partition!\")\n",
    "    if N == 1:      raise NotImplementedError(\"you should set the number of steps!\")\n",
    "\n",
    "    from numpy.testing import assert_almost_equal\n",
    "\n",
    "    c = np.exp(1)\n",
    "\n",
    "    test_value = np.exp(1)/2-1\n",
    "\n",
    "    func_result = func(x, delta_x, N)\n",
    "\n",
    "    print()\n",
    "    if printExecTime:\n",
    "        %timeit func(x, delta_x, N)\n",
    "\n",
    "    if func_result == None:\n",
    "        raise NotImplementedError('function \"%s\" still needs to be implemented!' % (func.__name__))\n",
    "    \n",
    "    try: \n",
    "        assert_almost_equal(func_result, test_value, decimal)\n",
    "        print(\"[%s] test passed\" % func.__name__)\n",
    "    except:\n",
    "        print(\"[%s] test did not pass\" % func.__name__)\n",
    "        verbose = True\n",
    "\n",
    "    if verbose:\n",
    "        print('function result: %.*f' % (decimal, func_result))\n",
    "        print(\"expected result: %.*f\" % (decimal, test_value))"
   ]
  },
  {
   "cell_type": "code",
   "execution_count": 6,
   "metadata": {},
   "outputs": [
    {
     "name": "stdout",
     "output_type": "stream",
     "text": [
      "\n",
      "4.46 ms ± 68.6 µs per loop (mean ± std. dev. of 7 runs, 100 loops each)\n",
      "[log_integral] test passed\n",
      "\n",
      "675 µs ± 18.1 µs per loop (mean ± std. dev. of 7 runs, 1000 loops each)\n",
      "[log_integral_numpy] test passed\n"
     ]
    }
   ],
   "source": [
    "# this calls the test function to see that everything works. DO NOT REMOVE THESE TWO LINES\n",
    "test_log_integral(log_integral, x, delta_x, N)\n",
    "test_log_integral(log_integral_numpy, x, delta_x, N)"
   ]
  },
  {
   "cell_type": "markdown",
   "metadata": {},
   "source": [
    "## 2. House price Data Challenge"
   ]
  },
  {
   "cell_type": "code",
   "execution_count": 1,
   "metadata": {},
   "outputs": [],
   "source": [
    "import pandas as pd\n",
    "import numpy as np\n",
    "import math\n",
    "from os import listdir\n",
    "from sklearn.model_selection import train_test_split\n",
    "from sklearn import ensemble\n",
    "import matplotlib.pyplot as plt"
   ]
  },
  {
   "cell_type": "code",
   "execution_count": 2,
   "metadata": {},
   "outputs": [
    {
     "name": "stdout",
     "output_type": "stream",
     "text": [
      "   id  zipcode  floors  housetype  garage  lotarea  livingarea  Nbathroom  \\\n",
      "0   1    27131       1          6     0.0     1386         692          1   \n",
      "1   2    27131       2          4   198.0     1950        1963          3   \n",
      "2   3    27134       2          4     0.0      706        1053          1   \n",
      "3   4    27119       3          3     0.0     1189        1808          3   \n",
      "4   5    27119       2          5   245.0     2330        2845          2   \n",
      "5   6    27137       2          4     0.0      928        1058          2   \n",
      "6   7    27137       2          3   229.0     2320        2521          2   \n",
      "7   8    27133       3          3     0.0     1750        2497          3   \n",
      "8   9    27133       2          3     0.0     1415        2397          2   \n",
      "9  10    27115       2          1     0.0     1367        1380          1   \n",
      "\n",
      "   yearbuilt  yrremodeled  yearsale  monthsale   price  \n",
      "0       1976          0.0      1996          1  162000  \n",
      "1       1977          0.0      1996          8  359500  \n",
      "2       1960       1986.0      2001         10  131500  \n",
      "3       1976          0.0      2001         10  318000  \n",
      "4       1966          0.0      1999          8  470000  \n",
      "5       1969          0.0      2003         10  202000  \n",
      "6       1971       1985.0      1997          2  520500  \n",
      "7       1971          0.0      1997          3  420500  \n",
      "8       1976          0.0      2002          4  297500  \n",
      "9       1984          0.0      2004         11  416500  \n"
     ]
    }
   ],
   "source": [
    "df_train = pd.read_csv(\"train.csv\")\n",
    "df_test  = pd.read_csv(\"test.csv\")\n",
    "\n",
    "def preprocessDataFrame(df):\n",
    "    df['garage'] = df['garage'].fillna(0)\n",
    "    df['yrremodeled'] = df['yrremodeled'].fillna(0)\n",
    "\n",
    "    # replace string label by numberical label\n",
    "    dic = {'Farm': 1, 'Ranch':2, 'Cottage': 3, 'Town':4, 'Detached':5, 'Bungalow':6}\n",
    "\n",
    "    df['housetype'] = df['housetype'].map(dic)\n",
    "\n",
    "preprocessDataFrame(df_train)\n",
    "preprocessDataFrame(df_test)\n",
    "\n",
    "print(df_train.head(10))"
   ]
  },
  {
   "cell_type": "markdown",
   "metadata": {},
   "source": [
    "Convert data frame to numpy arrays"
   ]
  },
  {
   "cell_type": "code",
   "execution_count": 3,
   "metadata": {},
   "outputs": [],
   "source": [
    "# we choose only importent features\n",
    "# more see below\n",
    "train_feat = df_train.loc[:,['housetype', 'garage', 'livingarea', 'Nbathroom', 'yearbuilt', \n",
    "                           'yrremodeled', 'yearsale', 'monthsale']].values\n",
    "train_target = df_train.loc[:, ['price']].values[:, 0]"
   ]
  },
  {
   "cell_type": "markdown",
   "metadata": {},
   "source": [
    "Use 90% of the data as training set and 10% as testing set (selected randomly)"
   ]
  },
  {
   "cell_type": "code",
   "execution_count": 4,
   "metadata": {},
   "outputs": [],
   "source": [
    "X_train, X_test, Y_train, Y_test = train_test_split(train_feat, train_target, \n",
    "                                                   train_size=0.9, test_size=0.1, \n",
    "                                                   random_state=188)"
   ]
  },
  {
   "cell_type": "markdown",
   "metadata": {},
   "source": [
    "Use GBDT to fit the data"
   ]
  },
  {
   "cell_type": "code",
   "execution_count": 6,
   "metadata": {},
   "outputs": [
    {
     "data": {
      "image/png": "[encoded data removed]",
      "text/plain": [
       "<Figure size 432x288 with 1 Axes>"
      ]
     },
     "metadata": {
      "needs_background": "light"
     },
     "output_type": "display_data"
    },
    {
     "name": "stdout",
     "output_type": "stream",
     "text": [
      "min abs error 0.13345859545775174 at 1027\n",
      "weight for each feature [0.02180527 0.15622296 0.63106657 0.03770783 0.08689857 0.02669754\n",
      " 0.02994814 0.0096531 ]\n",
      "abs error for test set 0.13350843964892978\n"
     ]
    }
   ],
   "source": [
    "# number of iteration\n",
    "N = 2000\n",
    "\n",
    "params = {'n_estimators': N, 'max_depth': 4, 'min_samples_split':2, \n",
    "         'learning_rate': 0.01, 'loss': 'lad'}\n",
    "\n",
    "gbr = ensemble.GradientBoostingRegressor(**params)\n",
    "gbr.fit(X_train, Y_train)\n",
    "# show the abs erros for each iteration\n",
    "# this will help us to choose a good number of iteration\n",
    "# the abs errors is not always reduced when N larger\n",
    "errs = []\n",
    "for y_pred in gbr.staged_predict(X_test):\n",
    "    err = np.mean(np.abs(Y_test-y_pred) / Y_test)\n",
    "    errs.append(err)\n",
    "plt.figure()\n",
    "plt.plot(np.arange(1,N+1), errs)\n",
    "plt.show()\n",
    "print(\"min abs error \" + str(np.min(errs)) + \" at \" + str(np.where(np.array(errs) == np.min(errs))[0][0]))\n",
    "y_pred = gbr.predict(X_test)\n",
    "# show the weight for each feature\n",
    "# when the weight is so small, we should not use this\n",
    "# feature\n",
    "# because it means that the house price only weak correlated\n",
    "# or not correlated to this feature\n",
    "print(\"weight for each feature \" + str(gbr.feature_importances_))\n",
    "print(\"abs error for test set \" + str(np.mean(np.abs(Y_test-y_pred) / Y_test)))"
   ]
  },
  {
   "cell_type": "markdown",
   "metadata": {},
   "source": [
    "Create submission file"
   ]
  },
  {
   "cell_type": "code",
   "execution_count": 9,
   "metadata": {},
   "outputs": [],
   "source": [
    "# create submission\n",
    "selected_columns = ['housetype', 'garage', 'livingarea', 'Nbathroom', 'yearbuilt', \n",
    "                           'yrremodeled', 'yearsale', 'monthsale']\n",
    "\n",
    "df_test['price'] = gbr.predict(df_test[selected_columns])\n",
    "\n",
    "df_test[['id','price']].to_csv('Wenjie_Wu_Dong_Zhang_submission.csv', index=False)"
   ]
  },
  {
   "cell_type": "code",
   "execution_count": null,
   "metadata": {},
   "outputs": [],
   "source": []
  }
 ],
 "metadata": {
  "kernelspec": {
   "display_name": "Python 3",
   "language": "python",
   "name": "python3"
  },
  "language_info": {
   "codemirror_mode": {
    "name": "ipython",
    "version": 3
   },
   "file_extension": ".py",
   "mimetype": "text/x-python",
   "name": "python",
   "nbconvert_exporter": "python",
   "pygments_lexer": "ipython3",
   "version": "3.7.10"
  }
 },
 "nbformat": 4,
 "nbformat_minor": 4
}
